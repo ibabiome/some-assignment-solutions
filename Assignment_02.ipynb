{
 "cells": [
  {
   "cell_type": "markdown",
   "metadata": {},
   "source": [
    "# Question 1\n",
    "\n",
    "#### Write a python program to count the number of characters (character frequency) in a string."
   ]
  },
  {
   "cell_type": "code",
   "execution_count": 1,
   "metadata": {},
   "outputs": [],
   "source": [
    "# Initialize the query string\n",
    "q1_str = 'fsdgjgsdfkgsjkfguiwegbkjbfibcnbsjdfugielksjefhiur'\n",
    "# q1_str = input(\"Enter query string: \")"
   ]
  },
  {
   "cell_type": "code",
   "execution_count": 2,
   "metadata": {},
   "outputs": [
    {
     "name": "stdout",
     "output_type": "stream",
     "text": [
      "Character frequency is:\n",
      " {'f': 6, 's': 5, 'd': 3, 'g': 6, 'j': 5, 'k': 4, 'u': 3, 'i': 4, 'w': 1, 'e': 3, 'b': 4, 'c': 1, 'n': 1, 'l': 1, 'h': 1, 'r': 1}\n"
     ]
    }
   ],
   "source": [
    "# Initialize dictionary for frequency counting\n",
    "count = {}\n",
    "\n",
    "# Initialize indexing variable\n",
    "i = 0\n",
    "\n",
    "# Walk through each character in the string\n",
    "for s in q1_str:\n",
    "    # Update frequency of character in 'count'\n",
    "    if s in count:                  # Check if character 's' is already encountered\n",
    "        count[s] += 1\n",
    "    else:                           # Case when 's' is seen first time\n",
    "        count[s] = 1\n",
    "    i += 1\n",
    "\n",
    "# Print the character frequency\n",
    "print(\"Character frequency is:\\n\", count)"
   ]
  },
  {
   "cell_type": "code",
   "execution_count": null,
   "metadata": {},
   "outputs": [],
   "source": []
  },
  {
   "cell_type": "markdown",
   "metadata": {},
   "source": [
    "# Question 2\n",
    "\n",
    "#### Write a Python function that takes a list of words and returns the longest word and the length of the longest one."
   ]
  },
  {
   "cell_type": "code",
   "execution_count": 3,
   "metadata": {},
   "outputs": [],
   "source": [
    "# Initialize query list of words\n",
    "q2_list = ['python', 'cython', 'scipy', 'numpy', 'matplotlib', 'program', 'computer']"
   ]
  },
  {
   "cell_type": "code",
   "execution_count": 4,
   "metadata": {},
   "outputs": [
    {
     "name": "stdout",
     "output_type": "stream",
     "text": [
      "Longest word is matplotlib\n",
      "Length of longest word is 10\n"
     ]
    }
   ],
   "source": [
    "# Define function taking a list as input\n",
    "def longest_ones(query_list):\n",
    "    # Initialize the longest word as empty string and its length as 0\n",
    "    word = ''\n",
    "    length = 0\n",
    "    \n",
    "    # Read through every word in list and obtain longest word and its length\n",
    "    for w in query_list:\n",
    "        if len(w) > length:     # Check if current word length is greater than longest word\n",
    "            word = w            # Update longest word\n",
    "            length = len(w)     # Update length of longest word\n",
    "    \n",
    "    # Return longest word and its length\n",
    "    return word, length\n",
    "\n",
    "# Print the results\n",
    "print(\"Longest word is\", longest_ones(q2_list)[0])\n",
    "print(\"Length of longest word is\", longest_ones(q2_list)[1])"
   ]
  },
  {
   "cell_type": "code",
   "execution_count": null,
   "metadata": {},
   "outputs": [],
   "source": []
  },
  {
   "cell_type": "markdown",
   "metadata": {},
   "source": [
    "# Question 3\n",
    "\n",
    "#### Write a python program to count the occurrences of each word in a given sentence."
   ]
  },
  {
   "cell_type": "code",
   "execution_count": 5,
   "metadata": {},
   "outputs": [],
   "source": [
    "q3_sentence = 'A quick   little fox jumps over the lazy dog on a summer afternoon by the lake.'"
   ]
  },
  {
   "cell_type": "code",
   "execution_count": 6,
   "metadata": {},
   "outputs": [
    {
     "name": "stdout",
     "output_type": "stream",
     "text": [
      "Occurrences of each word in the given sentence are:\n",
      " {'a': 2, 'quick': 1, 'little': 1, 'fox': 1, 'jumps': 1, 'over': 1, 'the': 2, 'lazy': 1, 'dog': 1, 'on': 1, 'summer': 1, 'afternoon': 1, 'by': 1, 'lake': 1}\n"
     ]
    }
   ],
   "source": [
    "# Extract the words of the sentence\n",
    "puncless_sentence = q3_sentence.split('.')[0]   # Removing full stop\n",
    "words = puncless_sentence.split(\" \")            # Extracting all words in list 'words'\n",
    "\n",
    "\"\"\"Note that this list of words may contain empty string(s) as word(s) of the sentence.\n",
    "They will be eliminated once word equality is defined.\"\"\"\n",
    "\n",
    "# Define dictionary to store unique words and their frequencies\n",
    "unique_words = {}\n",
    "\n",
    "# Tterate through each word extracted from the sentence\n",
    "for w in words:\n",
    "    if w == '':                                 # We are not interested in empty words\n",
    "        pass\n",
    "    else:\n",
    "        # Convert current word into lowercase so that comparison can be made without loss of generality\n",
    "        buffer = w.lower()\n",
    "        if buffer in unique_words:              # Check if word is counted at least once\n",
    "            unique_words[buffer] += 1\n",
    "        else:\n",
    "            unique_words[buffer] = 1\n",
    "\n",
    "print(\"Occurrences of each word in the given sentence are:\\n\", unique_words)"
   ]
  },
  {
   "cell_type": "code",
   "execution_count": null,
   "metadata": {},
   "outputs": [],
   "source": []
  },
  {
   "cell_type": "markdown",
   "metadata": {},
   "source": [
    "# Question 4\n",
    "\n",
    "#### Write a python program that accepts a comma separated sequence of words as input and prints the unique words in sorted form (alphanumerically)."
   ]
  },
  {
   "cell_type": "code",
   "execution_count": 7,
   "metadata": {},
   "outputs": [
    {
     "name": "stdout",
     "output_type": "stream",
     "text": [
      "Enter words separated by commas: hello, hey, hey, hi, hello, hello, hie, bye\n"
     ]
    }
   ],
   "source": [
    "q4_seq = input(\"Enter words separated by commas: \")"
   ]
  },
  {
   "cell_type": "code",
   "execution_count": 8,
   "metadata": {},
   "outputs": [
    {
     "name": "stdout",
     "output_type": "stream",
     "text": [
      "The sorted list of unique words in the sentence is:\n",
      " ['bye', 'hello', 'hey', 'hi', 'hie']\n"
     ]
    }
   ],
   "source": [
    "# Preprocess the input and extract the words\n",
    "sentence_without_spaces = q4_seq.replace(' ',',')\n",
    "list_of_words = sentence_without_spaces.split(',')\n",
    "\n",
    "# Initialize list of unique words\n",
    "words_unique = []\n",
    "\n",
    "# Iterate over all the words and identify the unique ones\n",
    "for w in list_of_words:\n",
    "    if w == '':                             # Eliminate empty words\n",
    "        pass\n",
    "    else:\n",
    "        # Convert current word to lowercase for comparisons without loss of generality\n",
    "        buffer = w.lower()\n",
    "        if buffer not in words_unique:      # Check membership of buffer in list of unique words\n",
    "            words_unique += [buffer]\n",
    "\n",
    "# Sort the list of unique words alphanumerically\n",
    "sorted_unique_words = sorted(words_unique, key = lambda x: (isinstance(x, str), x))\n",
    "\n",
    "# Print the results\n",
    "print(\"The sorted list of unique words in the sentence is:\\n\", sorted_unique_words)"
   ]
  },
  {
   "cell_type": "code",
   "execution_count": null,
   "metadata": {},
   "outputs": [],
   "source": []
  },
  {
   "cell_type": "markdown",
   "metadata": {},
   "source": [
    "# Question 5\n",
    "\n",
    "#### Write a python program to find the first non-repeating character in given string."
   ]
  },
  {
   "cell_type": "code",
   "execution_count": 9,
   "metadata": {},
   "outputs": [
    {
     "name": "stdout",
     "output_type": "stream",
     "text": [
      "Enter a string: aaaaaaaaaaaasbsbsbsbsbs\n"
     ]
    }
   ],
   "source": [
    "# Define a string\n",
    "q5_str = input('Enter a string: ')"
   ]
  },
  {
   "cell_type": "code",
   "execution_count": 10,
   "metadata": {},
   "outputs": [
    {
     "name": "stdout",
     "output_type": "stream",
     "text": [
      "First non-repeating character is s\n"
     ]
    }
   ],
   "source": [
    "# Initialize a list to store occurrences\n",
    "seen = [q5_str[0]]\n",
    "\n",
    "# Initialize flag to denote non-repeating character\n",
    "flag = 0\n",
    "\n",
    "# Iterate through the string starting from second character\n",
    "for i in range(1,len(q5_str)):\n",
    "    if q5_str[i] not in seen:       # Check if character already seen\n",
    "        character = q5_str[i]       # Assign name to non-repeating character\n",
    "        break                       # Exit for loop since first non-repeating is found\n",
    "\n",
    "# Print results\n",
    "print(\"First non-repeating character is\", character)"
   ]
  },
  {
   "cell_type": "code",
   "execution_count": null,
   "metadata": {},
   "outputs": [],
   "source": []
  },
  {
   "cell_type": "markdown",
   "metadata": {},
   "source": [
    "# Question 6\n",
    "\n",
    "#### Write a Python program to compute sum of digits of a given string."
   ]
  },
  {
   "cell_type": "code",
   "execution_count": 11,
   "metadata": {},
   "outputs": [],
   "source": [
    "# Define string\n",
    "q6_string = '123456789'"
   ]
  },
  {
   "cell_type": "code",
   "execution_count": 12,
   "metadata": {},
   "outputs": [
    {
     "name": "stdout",
     "output_type": "stream",
     "text": [
      "Sum of digits is 45\n"
     ]
    }
   ],
   "source": [
    "# Initialize sum variable\n",
    "dig_sum = 0\n",
    "\n",
    "# Identify each digit from the string and update 'dig_sum'\n",
    "for dig in q6_string:\n",
    "    dig_sum += int(dig)     # Add to 'dig_sum' the integer version of the digit\n",
    "\n",
    "# Print the result\n",
    "print(\"Sum of digits is\", dig_sum)"
   ]
  },
  {
   "cell_type": "code",
   "execution_count": null,
   "metadata": {},
   "outputs": [],
   "source": []
  },
  {
   "cell_type": "markdown",
   "metadata": {},
   "source": [
    "# Question 7\n",
    "\n",
    "#### Write a python program find the common values that appear in two given strings.\n",
    "\n",
    "Sample strings:\n",
    "* Python3\n",
    "* Python2.7\n",
    "\n",
    "Output string: Python"
   ]
  },
  {
   "cell_type": "code",
   "execution_count": 13,
   "metadata": {},
   "outputs": [
    {
     "name": "stdout",
     "output_type": "stream",
     "text": [
      "Enter a string: sample1\n",
      "Enter another string: sample2\n"
     ]
    }
   ],
   "source": [
    "# Input two strings\n",
    "q7_str1 = input('Enter a string: ')\n",
    "q7_str2 = input('Enter another string: ')"
   ]
  },
  {
   "cell_type": "code",
   "execution_count": 14,
   "metadata": {},
   "outputs": [
    {
     "name": "stdout",
     "output_type": "stream",
     "text": [
      "Common values appreating in two given strings are:\n",
      " sample\n"
     ]
    }
   ],
   "source": [
    "# Initialize string with common values\n",
    "comm = ''\n",
    "\n",
    "# Iterate through each character of first string\n",
    "for char in q7_str1:\n",
    "    # Check if character 'char' contains in second list\n",
    "    if char in q7_str2:\n",
    "        comm += char\n",
    "    \n",
    "    \"\"\"\n",
    "    # Check for character identity rather than capitalisation etc.\n",
    "    for char1 in q7_str2:\n",
    "        if char.lower() == char1.lower():\n",
    "            comm += char\n",
    "    \"\"\"\n",
    "    \n",
    "# Print the common values\n",
    "print(\"Common values appreating in two given strings are:\\n\", comm)"
   ]
  },
  {
   "cell_type": "code",
   "execution_count": null,
   "metadata": {},
   "outputs": [],
   "source": []
  },
  {
   "cell_type": "markdown",
   "metadata": {},
   "source": [
    "# Question 8\n",
    "\n",
    "#### Write a Python program to count the number of elements in a list within a specified range."
   ]
  },
  {
   "cell_type": "code",
   "execution_count": 15,
   "metadata": {},
   "outputs": [],
   "source": [
    "# Define list and specify ranges to search for\n",
    "q8_list = [1,2,2,2,1,2,3,4,5,4,5,6,67,7,4,3,2,4,5,6,-2,-4,-1,-4]\n",
    "lowerlim = 1\n",
    "upperlim = 5"
   ]
  },
  {
   "cell_type": "code",
   "execution_count": 16,
   "metadata": {},
   "outputs": [
    {
     "name": "stdout",
     "output_type": "stream",
     "text": [
      "16\n"
     ]
    }
   ],
   "source": [
    "def range_count(lst, llim, ulim):\n",
    "    # Initialize count variable as zero\n",
    "    count = 0\n",
    "    \n",
    "    # Iterate through elements of the list to check for range satisfiability\n",
    "    for elt in lst:\n",
    "        if elt >= llim and elt <= ulim:\n",
    "            count += 1\n",
    "    \n",
    "    # Return number of elements satisfying range conditions\n",
    "    return count\n",
    "\n",
    "# Print the results\n",
    "print(range_count(q8_list, lowerlim, upperlim))"
   ]
  },
  {
   "cell_type": "code",
   "execution_count": null,
   "metadata": {},
   "outputs": [],
   "source": []
  },
  {
   "cell_type": "markdown",
   "metadata": {},
   "source": [
    "# Question 9\n",
    "\n",
    "#### Write a Python program to find common items from two lists."
   ]
  },
  {
   "cell_type": "code",
   "execution_count": 17,
   "metadata": {},
   "outputs": [],
   "source": [
    "# Initialize two lists\n",
    "q9_lst1 = [1,2,3,4]\n",
    "q9_lst2 = [2,3,5,7]"
   ]
  },
  {
   "cell_type": "code",
   "execution_count": 18,
   "metadata": {},
   "outputs": [
    {
     "name": "stdout",
     "output_type": "stream",
     "text": [
      "Common elements from the two given lists are:\n",
      " [2, 3]\n"
     ]
    }
   ],
   "source": [
    "# Initialize common list\n",
    "comm_lst = []\n",
    "\n",
    "# Iterate through each element of first list\n",
    "for el1 in q9_lst1:\n",
    "    # Check if element el1 contains in second list\n",
    "    if el1 in q9_lst2:\n",
    "        comm_lst += [el1]\n",
    "\n",
    "# Print the list of common items\n",
    "print(\"Common elements from the two given lists are:\\n\", comm_lst)"
   ]
  },
  {
   "cell_type": "code",
   "execution_count": null,
   "metadata": {},
   "outputs": [],
   "source": []
  },
  {
   "cell_type": "markdown",
   "metadata": {},
   "source": [
    "# Question 10\n",
    "\n",
    "#### Write a python program to convert a list of multiple integers into a single integer."
   ]
  },
  {
   "cell_type": "code",
   "execution_count": 19,
   "metadata": {},
   "outputs": [],
   "source": [
    "# Define list of multiple integers\n",
    "q10_list = [12,43,22,62,91]"
   ]
  },
  {
   "cell_type": "code",
   "execution_count": 20,
   "metadata": {},
   "outputs": [
    {
     "name": "stdout",
     "output_type": "stream",
     "text": [
      "Resultant integer that is result of all list of multiple integers is 1243226291\n"
     ]
    }
   ],
   "source": [
    "# Initialize buffer string variable\n",
    "buff = ''\n",
    "\n",
    "# Iterate through each integer in list\n",
    "for integer in q10_list:\n",
    "    buff += str(integer)        # Concatenate srting version of integer to buffer string\n",
    "\n",
    "# Convert buffer string to integer\n",
    "single_integer = int(buff)\n",
    "\n",
    "# Print the result\n",
    "print(\"Resultant integer that is result of all list of multiple integers is\", single_integer)"
   ]
  },
  {
   "cell_type": "code",
   "execution_count": null,
   "metadata": {},
   "outputs": [],
   "source": []
  },
  {
   "cell_type": "markdown",
   "metadata": {},
   "source": [
    "**Created by:**\n",
    "\n",
    "Sonam Kumar \\\n",
    "Institute of Bioinformatics and Applied Biotechnology"
   ]
  }
 ],
 "metadata": {
  "kernelspec": {
   "display_name": "Python 3",
   "language": "python",
   "name": "python3"
  },
  "language_info": {
   "codemirror_mode": {
    "name": "ipython",
    "version": 3
   },
   "file_extension": ".py",
   "mimetype": "text/x-python",
   "name": "python",
   "nbconvert_exporter": "python",
   "pygments_lexer": "ipython3",
   "version": "3.8.10"
  }
 },
 "nbformat": 4,
 "nbformat_minor": 4
}
