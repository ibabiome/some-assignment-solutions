{
 "cells": [
  {
   "cell_type": "markdown",
   "metadata": {},
   "source": [
    "# Threading\n",
    "\n",
    "\n",
    "Write a program to first generate a long list of random number and save it to the file. You need to find from the dataset created the following values:\n",
    "\n",
    "* Count of odd numbers\n",
    "* Count of even numbers\n",
    "* Sum of numbers. \n",
    "* Average of numbers. \n",
    "\n",
    "Note: You need to using threading in python and run several above operations in parallel"
   ]
  },
  {
   "cell_type": "markdown",
   "metadata": {},
   "source": [
    "## Generating Long List of Random Numbers"
   ]
  },
  {
   "cell_type": "code",
   "execution_count": 1,
   "metadata": {},
   "outputs": [],
   "source": [
    "import random as r\n",
    "\n",
    "try:\n",
    "    # Open a file in the current directory such that text can be written\n",
    "    file_handle = open('dataset.txt', 'wt')\n",
    "    for i in range(100000):\n",
    "        rand = str(r.randint(0, 1000))      # Randomly generate a number between 0 amd 1000\n",
    "        file_handle.write(rand)             # Write the randomly generated number into the file\n",
    "        file_handle.write('\\n')             # Move cursor to next line to next write in new line\n",
    "finally:\n",
    "    # Close the file\n",
    "    file_handle.close()"
   ]
  },
  {
   "cell_type": "markdown",
   "metadata": {},
   "source": [
    "## Defining the Functions"
   ]
  },
  {
   "cell_type": "code",
   "execution_count": 2,
   "metadata": {},
   "outputs": [],
   "source": [
    "# First function to find the count of odd numbers\n",
    "def count_odd():\n",
    "    # Initialize counting variable\n",
    "    odd_count = 0\n",
    "    \n",
    "    # Open file in read only mode\n",
    "    file_handle_1 = open('dataset.txt', 'r')\n",
    "    \n",
    "    # Iterate through the rows and extract the odd numbers\n",
    "    for line in file_handle_1:\n",
    "        if int(line)%2 == 1:\n",
    "            odd_count += 1\n",
    "    \n",
    "    # Close the file\n",
    "    file_handle_1.close()\n",
    "    \n",
    "    # Print result\n",
    "    print('Count of odd numbers is:', odd_count)\n",
    "    \n",
    "    # Return count of odd numbers\n",
    "    # return odd_count"
   ]
  },
  {
   "cell_type": "code",
   "execution_count": 3,
   "metadata": {},
   "outputs": [],
   "source": [
    "# Second function to find the count of even numbers\n",
    "def count_even():\n",
    "    # Initialize counting variable\n",
    "    even_count = 0\n",
    "    \n",
    "    # Open file in read only mode\n",
    "    file_handle_2 = open('dataset.txt', 'r')\n",
    "    \n",
    "    # Iterate through the rows and extract the even numbers\n",
    "    for line in file_handle_2:\n",
    "        if int(line)%2 == 0:\n",
    "            even_count += 1\n",
    "    \n",
    "    # Close the file\n",
    "    file_handle_2.close()\n",
    "    \n",
    "    # Print result\n",
    "    print('Count of even numbers is:', even_count)\n",
    "    \n",
    "    # Return count of even numbers\n",
    "    # return even_count"
   ]
  },
  {
   "cell_type": "code",
   "execution_count": 4,
   "metadata": {},
   "outputs": [],
   "source": [
    "# Third function to find the sum of all numbers\n",
    "def sum_of_all():\n",
    "    # Initialize sum\n",
    "    total = 0\n",
    "    \n",
    "    # Open file in read only mode\n",
    "    file_handle_3 = open('dataset.txt', 'r')\n",
    "    \n",
    "    # Iterate through the rows and extract the numbers\n",
    "    for line in file_handle_3:\n",
    "        total += int(line)\n",
    "    \n",
    "    # Close the file\n",
    "    file_handle_3.close()\n",
    "    \n",
    "    # Print result\n",
    "    print('Sum of all numbers is:', total)\n",
    "    \n",
    "    # Return sum of all numbers\n",
    "    # return total"
   ]
  },
  {
   "cell_type": "code",
   "execution_count": 5,
   "metadata": {},
   "outputs": [],
   "source": [
    "# Fourth function to find the average of all numbers\n",
    "def average():\n",
    "    # Initialize sum\n",
    "    total = 0\n",
    "    \n",
    "    #Initial total count of numbers\n",
    "    count = 0\n",
    "    \n",
    "    # Open file in read only mode\n",
    "    file_handle_4 = open('dataset.txt', 'r')\n",
    "    \n",
    "    # Iterate through the rows and extract the numbers\n",
    "    for line in file_handle_4:\n",
    "        total += int(line)\n",
    "        count += 1\n",
    "    \n",
    "    # Close the file\n",
    "    file_handle_4.close()\n",
    "    \n",
    "    # Calculate average\n",
    "    average_value = total/count\n",
    "    \n",
    "    # Print result\n",
    "    print('Average of all numbers is:', average_value)\n",
    "    \n",
    "    \n",
    "    # Return average of all numbers\n",
    "    # return average_value"
   ]
  },
  {
   "cell_type": "markdown",
   "metadata": {},
   "source": [
    "## Threading the functions "
   ]
  },
  {
   "cell_type": "code",
   "execution_count": 6,
   "metadata": {},
   "outputs": [
    {
     "name": "stdout",
     "output_type": "stream",
     "text": [
      "Sum of all numbers is: 49931637\n",
      "Count of odd numbers is: 49839\n",
      "Count of even numbers is: 50161\n",
      "Average of all numbers is: 499.31637\n",
      "\n",
      "ALL THREADS EXECUTED!\n",
      "\n",
      "Time taken for each thread for each function:\n",
      "---Counting odd numbers              : 0.09095907211303711 seconds\n",
      "---Counting even numbers             : 0.09195685386657715 seconds\n",
      "---Computing sum of the numbers      : 0.09196162223815918 seconds\n",
      "---Computing average of the numbers  : 0.09694528579711914 seconds\n"
     ]
    }
   ],
   "source": [
    "# Import the threading library\n",
    "import threading as th\n",
    "\n",
    "# Import library for computing time required for function execution\n",
    "import time\n",
    "\n",
    "# Define 'main' function which all controls the threads\n",
    "if __name__ == \"__main__\":\n",
    "    # Create threads for each function\n",
    "    thread1 = th.Thread(target=count_odd)\n",
    "    thread2 = th.Thread(target=count_even)\n",
    "    thread3 = th.Thread(target=sum_of_all)\n",
    "    thread4 = th.Thread(target=average)\n",
    "    \n",
    "    # Start the threads\n",
    "    start_time = time.time()            # Set start clock timer at current time\n",
    "    thread1.start()\n",
    "    thread2.start()\n",
    "    thread3.start()\n",
    "    thread4.start()\n",
    "    \n",
    "    # Wait till completion of execution of threads, so that the current program execution ends\n",
    "    thread1.join()\n",
    "    time1 = time.time() - start_time    # Time required to count odd numbers\n",
    "    thread2.join()\n",
    "    time2 = time.time() - start_time    # Time required to count even numbers\n",
    "    thread3.join()\n",
    "    time3 = time.time() - start_time    # Time required to add all numbers\n",
    "    thread4.join()\n",
    "    time4 = time.time() - start_time    # Time required to find average of all numbers\n",
    "    \n",
    "    print(\"\\nALL THREADS EXECUTED!\")\n",
    "\n",
    "# Print the durations taken by each thread\n",
    "print(\"\\nTime taken for each thread for each function:\")\n",
    "print(\"---Counting odd numbers              : %s seconds\" % time1)\n",
    "print(\"---Counting even numbers             : %s seconds\" % time2)\n",
    "print(\"---Computing sum of the numbers      : %s seconds\" % time3)\n",
    "print(\"---Computing average of the numbers  : %s seconds\" % time4)\n",
    "    \n"
   ]
  },
  {
   "cell_type": "markdown",
   "metadata": {},
   "source": [
    "**Created by:**\n",
    "\n",
    "Sonam Kumar \\\n",
    "Institute of Bioinformatics and Applied Biotechnology"
   ]
  }
 ],
 "metadata": {
  "kernelspec": {
   "display_name": "Python 3",
   "language": "python",
   "name": "python3"
  },
  "language_info": {
   "codemirror_mode": {
    "name": "ipython",
    "version": 3
   },
   "file_extension": ".py",
   "mimetype": "text/x-python",
   "name": "python",
   "nbconvert_exporter": "python",
   "pygments_lexer": "ipython3",
   "version": "3.8.10"
  }
 },
 "nbformat": 4,
 "nbformat_minor": 4
}
