{
 "cells": [
  {
   "cell_type": "markdown",
   "metadata": {},
   "source": [
    "# Question 1\n",
    "\n",
    "#### A DNA sequence is given by a string formed by characters from the alphabet {A,T,C,G}.\n",
    "\n",
    "Write a program that will print out the ```AT``` content of a DNA sequence.\n",
    "Define ```AT``` content as ```(A+T)/length```.\n",
    "\n",
    "Given sequence: ```ACTGATCGATTACGTATAGTATTTGCTATCATACATATATATCGATGCGTTCAT```"
   ]
  },
  {
   "cell_type": "code",
   "execution_count": 1,
   "metadata": {},
   "outputs": [],
   "source": [
    "q1_seq = \"ACTGATCGATTACGTATAGTATTTGCTATCATACATATATATCGATGCGTTCAT\""
   ]
  },
  {
   "cell_type": "code",
   "execution_count": 2,
   "metadata": {},
   "outputs": [
    {
     "name": "stdout",
     "output_type": "stream",
     "text": [
      "AT content is 0.6851851851851852\n"
     ]
    }
   ],
   "source": [
    "# Initialise the counters to use to count the number of 'A' and 'T' occurences\n",
    "A_count = 0\n",
    "T_count = 0\n",
    "\n",
    "# Read through all the characters in the given DNA sequence\n",
    "for i in range(len(q1_seq)): # Iterate through each character\n",
    "    if q1_seq[i] == 'A':     # Check if character is 'A'\n",
    "        A_count += 1         # Increase 'A's counter by 1\n",
    "    elif q1_seq[i] == 'T':   # Check if character is 'A'\n",
    "        T_count += 1         # Increase 'T's counter by 1\n",
    "\n",
    "# Calculate AT content and print it\n",
    "AT_content = (A_count + T_count)/len(q1_seq)\n",
    "print('AT content is', AT_content)"
   ]
  },
  {
   "cell_type": "code",
   "execution_count": null,
   "metadata": {},
   "outputs": [],
   "source": []
  },
  {
   "cell_type": "markdown",
   "metadata": {},
   "source": [
    "# Question 2\n",
    "\n",
    "#### A DNA sequence is given by a string formed by characters from the alphabet {A,T,C,G}.\n",
    "\n",
    "Write a program that will print the complement of this sequence.\n",
    "\n",
    "DNA sequence: ACTGATCGATTACGTATAGTATTTGCTATCATACATATATATCGATGCGTTCAT"
   ]
  },
  {
   "cell_type": "code",
   "execution_count": 3,
   "metadata": {},
   "outputs": [],
   "source": [
    "q2_seq = \"ACTGATCGATTACGTATAGTATTTGCTATCATACATATATATCGATGCGTTCAT\""
   ]
  },
  {
   "cell_type": "code",
   "execution_count": 4,
   "metadata": {},
   "outputs": [
    {
     "name": "stdout",
     "output_type": "stream",
     "text": [
      "The complementary sequence is:\n",
      " TGACTAGCTAATGCATATCATAAACGATAGTATGTATATATAGCTACGCAAGTA\n"
     ]
    }
   ],
   "source": [
    "# Define a dictionary containing the complements of individual nucleotides\n",
    "com_dic = {'A' : 'T', 'T' : 'A', 'G' : 'C', 'C' : 'G'}\n",
    "\n",
    "# Define a function that returns complementary of a DNA sequence\n",
    "def compl_strand(dna_strand):\n",
    "    # Initialise complement of given sequence\n",
    "    com_seq = \"\"\n",
    "\n",
    "    # Read through each character in the given sequence and update com_seq with the complement nucleotides\n",
    "    for char in dna_strand:           # Iterate through each character in given DNA sequence\n",
    "        if char == ' ':               # There may be spaces while reading the DNA sequence\n",
    "            pass\n",
    "        else:\n",
    "            com_seq += com_dic[char]  # Replace the value corresponding to the character as the key\n",
    "    \n",
    "    # Return the complementary sequence\n",
    "    return com_seq\n",
    "\n",
    "# Print the complementary sequence\n",
    "print('The complementary sequence is:\\n', compl_strand(q2_seq))"
   ]
  },
  {
   "cell_type": "code",
   "execution_count": null,
   "metadata": {},
   "outputs": [],
   "source": []
  },
  {
   "cell_type": "markdown",
   "metadata": {},
   "source": [
    "# Question 3\n",
    "\n",
    "#### A DNA sequence transcribes to an RNA, codons from which code for a sequence of amino acids that folds to form a protein structure.\n",
    "\n",
    "Translate the given DNA sequence to protein sequence using the codon table given as a dictonary:\n",
    "\n",
    "```codon_table = { 'UUU': 'F', 'UUC': 'F', 'UUA': 'L','UUG': 'L', 'UCU': 'S', 'UCC': 'S', 'UCA': 'S', 'UCG': 'S', 'UAU': 'Y', 'UAC': 'Y', 'UAA': '*', 'UAG': '*', 'UGU': 'C', 'UGC': 'C', 'UGA': '*', 'UGG': 'W', 'CUU': 'L', 'CUC': 'L', 'CUA': 'L', 'CUG': 'L', 'CCU': 'P', 'CCC': 'P', 'CCA': 'P', 'CCG': 'P', 'CAU': 'H', 'CAC': 'H', 'CAA': 'Q', 'CAG': 'Q', 'CGU': 'R', 'CGC': 'R', 'CGA': 'R', 'CGG': 'R', 'AUU': 'I', 'AUC': 'I', 'AUA': 'I', 'AUG': 'M', 'ACU': 'T', 'ACC': 'T', 'ACA': 'T', 'ACG': 'T', 'AAU': 'N', 'AAC': 'N', 'AAA': 'K', 'AAG': 'K', 'AGU': 'S', 'AGC': 'S', 'AGA': 'R', 'AGG': 'R', 'GUU': 'V', 'GUC': 'V', 'GUA': 'V', 'GUG': 'V', 'GCU': 'A', 'GCC': 'A', 'GCA': 'A', 'GCG': 'A', 'GAU': 'D', 'GAC': 'D', 'GAA': 'E', 'GAG': 'E', 'GGU': 'G', 'GGC': 'G', 'GGA': 'G', 'GGG': 'G'}```\n",
    "\n",
    "Also, calculate the frequency of each amino acid and find the most frequent one."
   ]
  },
  {
   "cell_type": "code",
   "execution_count": 5,
   "metadata": {},
   "outputs": [],
   "source": [
    "q3_seq = \"ATGGGTGCGAGAGCGTCAGTATTAAGCGGGGGAGAATTAGATCGATGG\\\n",
    "            GAAAAAATTCGGTTAAGGCCAGGGGGAAAGAAAAAATATAAATTAA\\\n",
    "            AACATATAGTATGGGCAAGCAGGGAGCTAGAACGATTCGCAGTTAA\\\n",
    "            TCCTGGCCTGTTAGAAACATCAGAAGGCTGTAGACAAATACTGGGA\\\n",
    "            CAGCTACAACCATCCCTTCAGACAGGATCAGAAGAACTTAGATCAT\\\n",
    "            TATATAATACAGTAGCAACCCTCTATTGTGTGCATCAAAGGATAGA\\\n",
    "            GATAAAAGACACCAAGGAAGCTTAAAATGGATGCCAA\""
   ]
  },
  {
   "cell_type": "code",
   "execution_count": 6,
   "metadata": {},
   "outputs": [
    {
     "name": "stdout",
     "output_type": "stream",
     "text": [
      "Amino acid sequence is:\n",
      " MGARASVLSGGELDRWEKIRLRPGGKKKYKLKHIVWASRELERFAVNPGLLETSEGCRQILGQLQPSLQTGSEELRSLYNTVATLYCVHQRIEIKDTKEA---\n",
      "Amino acid counts are:\n",
      " {'M': 1, 'G': 9, 'A': 6, 'R': 9, 'S': 7, 'V': 5, 'L': 13, 'E': 10, 'D': 2, 'W': 2, 'K': 8, 'I': 5, 'P': 3, 'Y': 3, 'H': 2, 'F': 1, 'N': 2, 'T': 5, 'C': 2, 'Q': 5}\n"
     ]
    }
   ],
   "source": [
    "# Define a dictionary containing amino acids for specific codons (from the given information).\n",
    "codon_table = { 'UUU': 'F', 'UUC': 'F', 'UUA': 'L','UUG': 'L', 'UCU': 'S', \\\n",
    "               'UCC': 'S', 'UCA': 'S', 'UCG': 'S', 'UAU': 'Y', 'UAC': 'Y', \\\n",
    "               'UAA': '*', 'UAG': '*', 'UGU': 'C', 'UGC': 'C', 'UGA': '*', \\\n",
    "               'UGG': 'W', 'CUU': 'L', 'CUC': 'L', 'CUA': 'L', 'CUG': 'L', \\\n",
    "               'CCU': 'P', 'CCC': 'P', 'CCA': 'P', 'CCG': 'P', 'CAU': 'H', \\\n",
    "               'CAC': 'H', 'CAA': 'Q', 'CAG': 'Q', 'CGU': 'R', 'CGC': 'R', \\\n",
    "               'CGA': 'R', 'CGG': 'R', 'AUU': 'I', 'AUC': 'I', 'AUA': 'I', \\\n",
    "               'AUG': 'M', 'ACU': 'T', 'ACC': 'T', 'ACA': 'T', 'ACG': 'T', \\\n",
    "               'AAU': 'N', 'AAC': 'N', 'AAA': 'K', 'AAG': 'K', 'AGU': 'S', \\\n",
    "               'AGC': 'S', 'AGA': 'R', 'AGG': 'R', 'GUU': 'V', 'GUC': 'V', \\\n",
    "               'GUA': 'V', 'GUG': 'V', 'GCU': 'A', 'GCC': 'A', 'GCA': 'A', \\\n",
    "               'GCG': 'A', 'GAU': 'D', 'GAC': 'D', 'GAA': 'E', 'GAG': 'E', \\\n",
    "               'GGU': 'G', 'GGC': 'G', 'GGA': 'G', 'GGG': 'G'}\n",
    "\n",
    "\n",
    "# Define transcription function that returns RNA sequence from given coding strand of DNA\n",
    "def transcription(coding_strand):\n",
    "    # Initialize RNA sequence\n",
    "    rna = ''\n",
    "    \n",
    "    # Read through each character and update rna accordingly\n",
    "    for char in coding_strand:\n",
    "        if char == ' ':               # There may be spaces while reading the DNA sequence\n",
    "            pass\n",
    "        elif char == 'T':             # RNA sequences have 'U' at positions coding strand has 'T'\n",
    "            rna += 'U'\n",
    "        else:\n",
    "            rna += char\n",
    "    return rna\n",
    "\n",
    "\"\"\"class count(dict):\n",
    "  \n",
    "    # __init__ function\n",
    "    def __init__(self):\n",
    "        self = dict()\n",
    "          \n",
    "    # Function to add key:value\n",
    "    def add(self, key, value):\n",
    "        self[key] = value\"\"\"\n",
    "\n",
    "\"\"\" Define translation function that:\n",
    "1. computes codons and replaces corresponding amino acids from 'codon_table', and\n",
    "2. counts the usage of each amino acid \"\"\"\n",
    "def translate_and_count(rna_seq):\n",
    "    # Initialize amino acid sequence\n",
    "    aa_seq = ''\n",
    "    \n",
    "    # Initialize count variable as a dictionary\n",
    "    count = {}\n",
    "    \n",
    "    # Read 'rna_seq' in frames of three and assign specific amino acid character\n",
    "    i = 0                             # Initialize index at start character\n",
    "    \n",
    "    # Iterate along RNA sequence identifying codons\n",
    "    while i < len(rna_seq):\n",
    "        # Read codon as a sequence of three consecutive nucleotides and identify the amino acid\n",
    "        codon = rna_seq[i:i+3]\n",
    "        aa = codon_table[codon]       # Access the corresponding amino acid\n",
    "        \n",
    "        # Append amino acid corresponding to codon\n",
    "        if aa == '*':                 # Check for stop codon\n",
    "            aa_seq += '---'\n",
    "            break                     # Terminate translation\n",
    "        aa_seq += aa                  # If not a stop codon, then extend the amino acid sequence\n",
    "        \n",
    "        # Update counting dictionary by increasing number of amino acid 'aa' by 1\n",
    "        if aa in count:               # Check if amino acid is already a key value\n",
    "            count[aa] += 1\n",
    "        else:\n",
    "            buffer = {aa : 1}         # Create a buffer dictionary with 'aa' as a new key\n",
    "            count.update(buffer)\n",
    "        \n",
    "        # Shift reading frame to next codon\n",
    "        i += 3\n",
    "    \n",
    "    return (aa_seq, count)\n",
    "\n",
    "# Find the transcript from query coding strand sequence\n",
    "transcript = transcription(q3_seq)\n",
    "\n",
    "# Obtain and print the amino acid sequence\n",
    "print(\"Amino acid sequence is:\\n\", translate_and_count(transcript)[0])\n",
    "print(\"Amino acid counts are:\\n\", translate_and_count(transcript)[1])"
   ]
  },
  {
   "cell_type": "code",
   "execution_count": null,
   "metadata": {},
   "outputs": [],
   "source": []
  },
  {
   "cell_type": "markdown",
   "metadata": {},
   "source": [
    "# Question 4\n",
    "\n",
    "<i> Explain the choice of data types that be used to represent the following data. </i>"
   ]
  },
  {
   "cell_type": "markdown",
   "metadata": {},
   "source": [
    "### a) A DNA sequence\n",
    "\n",
    "> There are two possible ways:\n",
    "> * **string** \\\n",
    "> If one strand of DNA is available, the other strand can be automatically derived by finding the complementary sequence. \\\n",
    "> \n",
    "> * **tuple** \\\n",
    "> If it is specifically required to mention both the 3' &#8594; 5' and 5' &#8594; 3' oriented strands, then a tuple may be used to represent orientations as strings."
   ]
  },
  {
   "cell_type": "markdown",
   "metadata": {},
   "source": [
    "### b) Names/symbols of genes associated with a disease\n",
    "\n",
    "> **dictionary** \\\n",
    "> If only one disease is specified, then ```keys``` are names of genes as strings and ```values``` are their corresponding symbols as strings.\n",
    "> \n",
    "> **dictionary** \\\n",
    "> If multiple diseases are specified, ```key-value``` pair be defined as:\n",
    "> * ```key```: disease name as a string\n",
    "> * ```value```: dictionary containing ```keys``` as names of genes as strings and their ```values``` as corresponding symbols in strings"
   ]
  },
  {
   "cell_type": "markdown",
   "metadata": {},
   "source": [
    "### c)  RNA sequences of all the transcripts expressed in a tissue\n",
    "\n",
    "> **list of strings** \\\n",
    "> Strings over the alphabet $\\Sigma =$ { ```A```, ```U```, ```C```, ```G```} represent RNA sequences and those corresponding to all transcripts comprise a list. \n"
   ]
  },
  {
   "cell_type": "markdown",
   "metadata": {},
   "source": [
    "### d)  Frequencies of amino acids in a given protein sequence \n",
    "\n",
    "> **dictionary** \\\n",
    "> Here, ```keys``` are names of amino acids as strings and ```values``` are their corresponding counts as non-negative integers.\n"
   ]
  },
  {
   "cell_type": "markdown",
   "metadata": {},
   "source": [
    "### e) Unique amino-acids appearing in a short peptide\n",
    "\n",
    "> **set** \\\n",
    "> The collection of unique amino acids, each represented as strings has no repetitions."
   ]
  },
  {
   "cell_type": "code",
   "execution_count": null,
   "metadata": {},
   "outputs": [],
   "source": []
  },
  {
   "cell_type": "markdown",
   "metadata": {},
   "source": [
    "# Question 5\n",
    "\n",
    "#### Generating a random sequences of DNA upto given length."
   ]
  },
  {
   "cell_type": "code",
   "execution_count": 7,
   "metadata": {},
   "outputs": [],
   "source": [
    "nucl_seq = ['A', 'T', 'C', 'G']"
   ]
  },
  {
   "cell_type": "code",
   "execution_count": 8,
   "metadata": {},
   "outputs": [],
   "source": [
    "import random"
   ]
  },
  {
   "cell_type": "code",
   "execution_count": 9,
   "metadata": {},
   "outputs": [
    {
     "name": "stdout",
     "output_type": "stream",
     "text": [
      "Enter length of random DNA sequence (integer only): 300\n"
     ]
    }
   ],
   "source": [
    "# Enter the length of DNA sequence required\n",
    "length = 10\n",
    "length = int(input(\"Enter length of random DNA sequence (integer only): \"))"
   ]
  },
  {
   "cell_type": "code",
   "execution_count": 10,
   "metadata": {},
   "outputs": [
    {
     "name": "stdout",
     "output_type": "stream",
     "text": [
      "Random DNA sequence of length 300 is:\n",
      " GTCTTAATTACTCGATAGGTTGTTATTCGGATTGTCCCTCCGTACGTGATGGCTTTGAATGGGAGCCCAGGTGTGCGGCTAGGCAGTCTCCAATAGTGCCCCCTCTCAAGGGCCTCCGTGGAAGTCGTTCACGATGTTCAAGTGCGAGCTAAGGAAGACAAAAGCTATTCTCTGATATTGCGTCAACTCGTTACCCCGCTCATCTGATATTCAGGGCGTCGTGATGGAAACTCCGTCCATAACTAGACCACCCTAGCTTGCGCTCAAGTCCCGGAAGTGGGCTCAAACAATTGTTCCCGA\n",
      "Random DNA sequence of length 60 is:\n",
      " CTACCTCATTCACAGAATAACTGCCATGCGTTGGGACCTAACAACCCCAAAAGACGTCTA\n"
     ]
    }
   ],
   "source": [
    "# Define a function to generate random DNA sequence of queried length\n",
    "def rand_DNA(q_len):\n",
    "    # Initialize the DNA sequence\n",
    "    dna_seq = ''\n",
    "    \n",
    "    i = 0                                      # Initial index \n",
    "    while i < q_len:                          # Operate through the loop when index is feasible\n",
    "        nucl = random.choice(nucl_seq)         # Randomly select a nucleic acid 'nucl' from 'nucl_seq'\n",
    "        dna_seq += nucl                        # Append new nucleic acid to 'dna_seq'\n",
    "        i += 1                                 # Increment index\n",
    "    \n",
    "    # Return the generated random sequence\n",
    "    return dna_seq\n",
    "\n",
    "# Print a random DNA sequence\n",
    "print(\"Random DNA sequence of length\", length, \"is:\\n\", rand_DNA(length))\n",
    "\n",
    "# Print another random DNA sequence\n",
    "print(\"Random DNA sequence of length 60 is:\\n\", rand_DNA(60))"
   ]
  },
  {
   "cell_type": "code",
   "execution_count": null,
   "metadata": {},
   "outputs": [],
   "source": []
  },
  {
   "cell_type": "markdown",
   "metadata": {},
   "source": [
    "**Created by:**\n",
    "\n",
    "Sonam Kumar \\\n",
    "Institute of Bioinformatics and Applied Biotechnology"
   ]
  }
 ],
 "metadata": {
  "kernelspec": {
   "display_name": "Python 3",
   "language": "python",
   "name": "python3"
  },
  "language_info": {
   "codemirror_mode": {
    "name": "ipython",
    "version": 3
   },
   "file_extension": ".py",
   "mimetype": "text/x-python",
   "name": "python",
   "nbconvert_exporter": "python",
   "pygments_lexer": "ipython3",
   "version": "3.8.10"
  }
 },
 "nbformat": 4,
 "nbformat_minor": 4
}
