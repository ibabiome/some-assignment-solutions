{
 "cells": [
  {
   "cell_type": "markdown",
   "metadata": {},
   "source": [
    "## Complex numbers\n",
    "\n",
    "#### These are the sums and differences of real and imaginary numbers.\n",
    "\n",
    "Mathematically, $z$ is a complex number if it can be represented in the form of $a + ib$, where $a$ and $b$ are real numbers.\n",
    " \n",
    "\n",
    "#### Define a class to handle following operations on complex numbers:\n",
    "\n",
    "*    assign real and imaginary part of complex number.\n",
    "*    sum of two complex numbers\n",
    "*    difference of two complex numbers\n",
    "*    multiplication of two complex numbers\n",
    "*    division of two complex numbers\n"
   ]
  },
  {
   "cell_type": "markdown",
   "metadata": {},
   "source": [
    "## Defining Class"
   ]
  },
  {
   "cell_type": "code",
   "execution_count": 1,
   "metadata": {},
   "outputs": [],
   "source": [
    "class ComplexNumber(object):\n",
    "    # Rules for assigning real and imaginary parts\n",
    "    def __init__(self, real = 0, imag = 0): \n",
    "            # By default, consider a complex number to be real\n",
    "            # Consider declaration of complex number without specifying real or imaginary parts\n",
    "        self.real = real\n",
    "        self.imag = imag\n",
    "    \n",
    "    # Printing facility\n",
    "    def __str__(self):\n",
    "        return \"{} {} {}i\".format(self.real,\n",
    "                                  '+' if self.imag >= 0 else '-',\n",
    "                                 abs(self.imag))\n",
    "    \n",
    "    # Rule for addition of two complex numbers\n",
    "    def __addi__(self, other):\n",
    "        return ComplexNumber(self.real + other.real,\n",
    "                             self.imag + other.imag)\n",
    "    \n",
    "    # Rule for difference between two complex numbers\n",
    "    def __subt__(self, other):\n",
    "        return ComplexNumber(self.real - other.real,\n",
    "                             self.imag - other.imag)\n",
    "    \n",
    "    # Rule for multiplication of two complex numbers\n",
    "    def __mult__(self, other):\n",
    "        return ComplexNumber(self.real * other.real - self.imag * other.imag,\n",
    "                             self.imag * other.real + self.real * other.imag)\n",
    "    \n",
    "    # Rule for division of one complex number by another\n",
    "    def __divi__(self, other):\n",
    "        r1 = self.real\n",
    "        r2 = other.real\n",
    "        i1 = self.imag\n",
    "        i2 = other.imag\n",
    "        mod2 = float(r2**2 + i2**2)\n",
    "        return ComplexNumber((r1 * r2 + i1 * i2)/mod2, (i1 * r2 - i2 * r1)/mod2)"
   ]
  },
  {
   "cell_type": "markdown",
   "metadata": {},
   "source": [
    "## Creating Instances"
   ]
  },
  {
   "cell_type": "code",
   "execution_count": 2,
   "metadata": {},
   "outputs": [
    {
     "name": "stdout",
     "output_type": "stream",
     "text": [
      "First complex number...\n",
      " Enter real part: 3\n",
      " Enter imaginary part: -4\n",
      "Second complex number...\n",
      " Enter real part: 2\n",
      " Enter imaginary part: 5\n",
      "\n",
      "Complex numbers created are:\n",
      " 3 - 4i and 2 + 5i\n"
     ]
    }
   ],
   "source": [
    "# Initialize two complex numbers\n",
    "real1 = int(input(\"First complex number...\\n Enter real part: \"))\n",
    "imag1 = int(input(\" Enter imaginary part: \"))\n",
    "real2 = int(input(\"Second complex number...\\n Enter real part: \"))\n",
    "imag2 = int(input(\" Enter imaginary part: \"))\n",
    "\n",
    "# Create complex numbers\n",
    "z1 = ComplexNumber(real1, imag1)\n",
    "z2 = ComplexNumber(real2, imag2)\n",
    "\n",
    "# Display created complex numbers\n",
    "print('\\nComplex numbers created are:\\n', z1, 'and', z2)"
   ]
  },
  {
   "cell_type": "markdown",
   "metadata": {},
   "source": [
    "## Operations"
   ]
  },
  {
   "cell_type": "code",
   "execution_count": 3,
   "metadata": {},
   "outputs": [
    {
     "name": "stdout",
     "output_type": "stream",
     "text": [
      "5 + 1i\n"
     ]
    }
   ],
   "source": [
    "# Addition\n",
    "print(z1.__addi__(z2))"
   ]
  },
  {
   "cell_type": "code",
   "execution_count": 4,
   "metadata": {},
   "outputs": [
    {
     "name": "stdout",
     "output_type": "stream",
     "text": [
      "1 - 9i\n"
     ]
    }
   ],
   "source": [
    "# Subtraction\n",
    "print(z1.__subt__(z2))"
   ]
  },
  {
   "cell_type": "code",
   "execution_count": 5,
   "metadata": {},
   "outputs": [
    {
     "name": "stdout",
     "output_type": "stream",
     "text": [
      "26 + 7i\n"
     ]
    }
   ],
   "source": [
    "# Multiplication\n",
    "print(z1.__mult__(z2))"
   ]
  },
  {
   "cell_type": "code",
   "execution_count": 6,
   "metadata": {},
   "outputs": [
    {
     "name": "stdout",
     "output_type": "stream",
     "text": [
      "-0.4827586206896552 - 0.7931034482758621i\n"
     ]
    }
   ],
   "source": [
    "# Division\n",
    "print(z1.__divi__(z2))"
   ]
  },
  {
   "cell_type": "code",
   "execution_count": null,
   "metadata": {},
   "outputs": [],
   "source": []
  },
  {
   "cell_type": "markdown",
   "metadata": {},
   "source": [
    "**Created by:**\n",
    "\n",
    "Sonam Kumar \\\n",
    "Institute of Bioinformatics and Applied Biotechnology"
   ]
  }
 ],
 "metadata": {
  "kernelspec": {
   "display_name": "Python 3",
   "language": "python",
   "name": "python3"
  },
  "language_info": {
   "codemirror_mode": {
    "name": "ipython",
    "version": 3
   },
   "file_extension": ".py",
   "mimetype": "text/x-python",
   "name": "python",
   "nbconvert_exporter": "python",
   "pygments_lexer": "ipython3",
   "version": "3.8.10"
  }
 },
 "nbformat": 4,
 "nbformat_minor": 4
}
