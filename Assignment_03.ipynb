{
 "cells": [
  {
   "cell_type": "markdown",
   "metadata": {},
   "source": [
    "# Question 1\n",
    "\n",
    "#### DNA sequences are flanked by adapters.\n",
    "\n",
    "> The below input contains a number of DNA sequences, one per line:\n",
    "\n",
    "> ATTCGATTATAAGCTCGATCGATCGATCGATCGATCGATCGATCGATCGATCGATC\n",
    "> ATTCGATTATAAGCACTGATCGATCGATCGATCGATCGATGCTATCGTCGT\n",
    "> ATTCGATTATAAGCATCGATCACGATCTATCGTACGTATGCATATCGATATCGATCGTAGTC\n",
    "> ATTCGATTATAAGCACTATCGATGATCTAGCTACGATCGTAGCTGTA\n",
    "> ATTCGATTATAAGCACTAGCTAGTCTCGATGCATGATCAGCTTAGCTGATGATGCTATGCA\n",
    "\n",
    "> Each sequence starts with the same 14 base pair fragment - a sequencing adapter that should have been removed.\n",
    "\n",
    "Write a program that will:\n",
    "* trim this adapter and write the output cleaned sequences to screen, and\n",
    "* print the length of each sequence to the screen."
   ]
  },
  {
   "cell_type": "code",
   "execution_count": 1,
   "metadata": {},
   "outputs": [],
   "source": [
    "# Identify given sequences with names\n",
    "q1seq1 = 'ATTCGATTATAAGCTCGATCGATCGATCGATCGATCGATCGATCGATCGATCGATC'\n",
    "q1seq2 = 'ATTCGATTATAAGCACTGATCGATCGATCGATCGATCGATGCTATCGTCGT'\n",
    "q1seq3 = 'ATTCGATTATAAGCATCGATCACGATCTATCGTACGTATGCATATCGATATCGATCGTAGTC'\n",
    "q1seq4 = 'ATTCGATTATAAGCACTATCGATGATCTAGCTACGATCGTAGCTGTA'\n",
    "q1seq5 = 'ATTCGATTATAAGCACTAGCTAGTCTCGATGCATGATCAGCTTAGCTGATGATGCTATGCA'\n",
    "\n",
    "q1_seqs = [q1seq1, q1seq2, q1seq3, q1seq4, q1seq5]"
   ]
  },
  {
   "cell_type": "code",
   "execution_count": 2,
   "metadata": {},
   "outputs": [
    {
     "name": "stdout",
     "output_type": "stream",
     "text": [
      "Cleaned sequence number 1 is:\n",
      " TCGATCGATCGATCGATCGATCGATCGATCGATCGATCGATC\n",
      "Length = 42\n",
      "Cleaned sequence number 1 is:\n",
      " ACTGATCGATCGATCGATCGATCGATGCTATCGTCGT\n",
      "Length = 37\n",
      "Cleaned sequence number 1 is:\n",
      " ATCGATCACGATCTATCGTACGTATGCATATCGATATCGATCGTAGTC\n",
      "Length = 48\n",
      "Cleaned sequence number 1 is:\n",
      " ACTATCGATGATCTAGCTACGATCGTAGCTGTA\n",
      "Length = 33\n",
      "Cleaned sequence number 1 is:\n",
      " ACTAGCTAGTCTCGATGCATGATCAGCTTAGCTGATGATGCTATGCA\n",
      "Length = 47\n"
     ]
    }
   ],
   "source": [
    "# Since adapters are of length 14, the cleaned sequence will be the suffix starting at 15th position\n",
    "\n",
    "# Initialize dictionary of cleaned sequences\n",
    "cleaned = {}\n",
    "\n",
    "# Iterate through each sequence and trip the adapters\n",
    "for sequence in q1_seqs:\n",
    "    seq = sequence[14:]         # Cleaned sequences are those which start at 15th position\n",
    "    cleaned[seq] = len(seq)     # Create key-value pair with cleaned sequence and its length\n",
    "\n",
    "# Print the output cleaned sequences to the screen\n",
    "i = 1                           # Counter for better printability\n",
    "for sequence in cleaned:\n",
    "    print (\"Cleaned sequence number\", i, \"is:\\n\", sequence)\n",
    "    print (\"Length =\", cleaned[sequence])"
   ]
  },
  {
   "cell_type": "code",
   "execution_count": null,
   "metadata": {},
   "outputs": [],
   "source": []
  },
  {
   "cell_type": "markdown",
   "metadata": {},
   "source": [
    "# Question 2\n",
    "\n",
    "#### Nucleotides form the building blocks of genes.\n",
    "\n",
    "Write a python code that prints out the percentages of the four nucleotides A, C, G, T in the following segment of the breast cancer gene: https://www.ncbi.nlm.nih.gov/nuccore/XM_002295694\n",
    "\n",
    "The gene is as below:\n",
    "\n",
    "```gene =  1 gggtgcgacg attcattgtt ttcggacaag tggataggca accactaccg gtggattgtc\n",
    "        61 tggaagctag cagcaatgga gagacggttt ccacaccatc ttggaggaca ttacttgacg\n",
    "       121 tacgagcgtg tgctgaaaca aatgaagggc cgctacgata aggaacttcg taatttcaga\n",
    "       181 cggcctgcag tacgcataat gctcaaccga gatgttgcag cgagtttgcc agtcatctta\n",
    "       241 tgcgtaagcc aaatccttcg attcaaatca agaccgccaa aaggaagttc ttccgacgag\n",
    "       301 atcaaagaag aagtccgact ggagttgacg gatggatggt actcactacc tgctgtagtg\n",
    "       361 gacgaaatac tgttgaagtt tgttgaagaa aggagaatcg cagtgggatc aaaactaatg\n",
    "       421 atttgcaatg ggcagttagt tggatctgat gacggagtgg agcctctcga tgacagctac\n",
    "       481 tcatcttcca aacgagattg tcctctattg ctgggcatct ctgccaacaa ctcccgttta\n",
    "       541 gcaagatggg atgcaactct aggttttgta cctcgcaaca actctaatct atacggcggc\n",
    "       601 aatcttttgg tcaaatccct gcaagacatt ttcatcggcg gaggtactgt tccggctatt\n",
    "       661 gatttggttg tttgtaagaa gtacccaagg atgtttctag agcaattaaa cggtggagct\n",
    "       721 tccattcatc ttacagaagc cgaagaagca gcacgccaaa gtgagtacga ttcaaggcat\n",
    "       781 cagcgagcaa gcgagagata tgccgacgat gctacgaagg aatgttcaga ggtaagttca\n",
    "       841 ttgctgttca cattcttcac tatgaagcca cttccgttgc tttggtacaa tcttgtcact\n",
    "       901 gactcatctt ttggcgttca tgattcgcac aggaaatcga tgaggatgct cctactcagt\n",
    "       961 ggaaagagat ga```"
   ]
  },
  {
   "cell_type": "code",
   "execution_count": 3,
   "metadata": {},
   "outputs": [],
   "source": [
    "# Designate variable name to given gene\n",
    "gene = \"  1 gggtgcgacg attcattgtt ttcggacaag tggataggca accactaccg gtggattgtc\\\n",
    "         61 tggaagctag cagcaatgga gagacggttt ccacaccatc ttggaggaca ttacttgacg\\\n",
    "        121 tacgagcgtg tgctgaaaca aatgaagggc cgctacgata aggaacttcg taatttcaga\\\n",
    "        181 cggcctgcag tacgcataat gctcaaccga gatgttgcag cgagtttgcc agtcatctta\\\n",
    "        241 tgcgtaagcc aaatccttcg attcaaatca agaccgccaa aaggaagttc ttccgacgag\\\n",
    "        301 atcaaagaag aagtccgact ggagttgacg gatggatggt actcactacc tgctgtagtg\\\n",
    "        361 gacgaaatac tgttgaagtt tgttgaagaa aggagaatcg cagtgggatc aaaactaatg\\\n",
    "        421 atttgcaatg ggcagttagt tggatctgat gacggagtgg agcctctcga tgacagctac\\\n",
    "        481 tcatcttcca aacgagattg tcctctattg ctgggcatct ctgccaacaa ctcccgttta\\\n",
    "        541 gcaagatggg atgcaactct aggttttgta cctcgcaaca actctaatct atacggcggc\\\n",
    "        601 aatcttttgg tcaaatccct gcaagacatt ttcatcggcg gaggtactgt tccggctatt\\\n",
    "        661 gatttggttg tttgtaagaa gtacccaagg atgtttctag agcaattaaa cggtggagct\\\n",
    "        721 tccattcatc ttacagaagc cgaagaagca gcacgccaaa gtgagtacga ttcaaggcat\\\n",
    "        781 cagcgagcaa gcgagagata tgccgacgat gctacgaagg aatgttcaga ggtaagttca\\\n",
    "        841 ttgctgttca cattcttcac tatgaagcca cttccgttgc tttggtacaa tcttgtcact\\\n",
    "        901 gactcatctt ttggcgttca tgattcgcac aggaaatcga tgaggatgct cctactcagt\\\n",
    "        961 ggaaagagat ga\""
   ]
  },
  {
   "cell_type": "code",
   "execution_count": 4,
   "metadata": {},
   "outputs": [
    {
     "name": "stdout",
     "output_type": "stream",
     "text": [
      "Percentages of nucleotides are as below:\n",
      "\n",
      "1. A : 27.674897119341562 \n",
      "2. T : 25.720164609053498 \n",
      "3. C : 21.296296296296298 \n",
      "4. G : 25.308641975308642\n"
     ]
    }
   ],
   "source": [
    "# Initialize counts of each nucleotide\n",
    "nA = 0\n",
    "nT = 0\n",
    "nC = 0\n",
    "nG = 0\n",
    "\n",
    "# Initialize length of gene, as there are white spaces, EOLs and character numbers along with the nucleotides\n",
    "n = 0\n",
    "\n",
    "for char in gene:\n",
    "    # Initialize flag bit for identifying non-nucleotide character (as 0)\n",
    "    flag = 0\n",
    "    \n",
    "    # Check if the character is 'a' or 't' or 'c' or 'g'\n",
    "    if char == 'a' or char == 'A':\n",
    "        nA += 1\n",
    "    elif char == 't' or char == 'T':\n",
    "        nT += 1\n",
    "    elif char == 'c' or char == 'C':\n",
    "        nC += 1\n",
    "    elif char == 'g' or char == 'G':\n",
    "        nG += 1\n",
    "    else:                   # If character isn't a nucleotide, assign flag as 1\n",
    "        flag = 1\n",
    "    \n",
    "    # If a nucleotide is read, then increment length of gene counter by 1\n",
    "    if flag == 0:\n",
    "        n += 1\n",
    "\n",
    "# Calculate percentages\n",
    "A_per = nA/n * 100\n",
    "T_per = nT/n * 100\n",
    "C_per = nC/n * 100\n",
    "G_per = nG/n * 100\n",
    "\n",
    "# Print results\n",
    "print('Percentages of nucleotides are as below:\\n\\n1. A :', A_per,\n",
    "      '\\n2. T :', T_per, '\\n3. C :', C_per, '\\n4. G :', G_per)"
   ]
  },
  {
   "cell_type": "code",
   "execution_count": null,
   "metadata": {},
   "outputs": [],
   "source": []
  },
  {
   "cell_type": "markdown",
   "metadata": {},
   "source": [
    "# Question 3\n",
    "\n",
    "#### DNA to RNA transcription\n",
    "\n",
    "Write a python program that prints out the corresponding RNA sequence of a given DNA sequence. Make\n",
    "sure to handle sequences both in lowercase and uppercase."
   ]
  },
  {
   "cell_type": "code",
   "execution_count": 5,
   "metadata": {},
   "outputs": [
    {
     "name": "stdout",
     "output_type": "stream",
     "text": [
      "Enter DNA sequence: aatTTaccCgCgcaACgCGTagaTGagcgaTAg\n"
     ]
    }
   ],
   "source": [
    "# Define variable for given DNA sequence\n",
    "q3_DNAseq = input('Enter DNA sequence: ')"
   ]
  },
  {
   "cell_type": "code",
   "execution_count": 6,
   "metadata": {},
   "outputs": [
    {
     "name": "stdout",
     "output_type": "stream",
     "text": [
      "RNA sequence corresponding to given DNA sequence is:\n",
      " AAUUUACCCGCGCAACGCGUAGAUGAGCGAUAG\n"
     ]
    }
   ],
   "source": [
    "# Define transcription function that returns RNA sequence from given coding strand of DNA\n",
    "def transcription(coding_strand):\n",
    "    # Initialize RNA sequence\n",
    "    rna = ''\n",
    "    \n",
    "    # Read through each character and update rna accordingly\n",
    "    for char in coding_strand:\n",
    "        if char == ' ':                         # There may be spaces while reading the DNA sequence\n",
    "            pass\n",
    "        elif char == 'T' or char == 't':        # RNA sequences have 'U' at positions coding strand has 'T'\n",
    "            rna += 'U'\n",
    "        else:\n",
    "            rna += char.upper()\n",
    "    return rna\n",
    "\n",
    "# Print the result\n",
    "print('RNA sequence corresponding to given DNA sequence is:\\n', transcription(q3_DNAseq))"
   ]
  },
  {
   "cell_type": "code",
   "execution_count": null,
   "metadata": {},
   "outputs": [],
   "source": []
  },
  {
   "cell_type": "markdown",
   "metadata": {},
   "source": [
    "# Question 4\n",
    "\n",
    "#### k-mers are useful tools in analysis and manipulation of sequences.\n",
    "\n",
    "Extract all substrings of length 4 (4-mers) from the sequence below sequence:\n",
    "\n",
    "> ```DNA_seq = 'gggtgcgacgattcattgttttcggacaagtggataggcaaccactaccggtggattgtc'```\n",
    "\n",
    "Store them in a dictionary use the 4-mers as keys and the number of their appearances as values. Print out all 4-mers in ```DNA_seq```."
   ]
  },
  {
   "cell_type": "code",
   "execution_count": 7,
   "metadata": {},
   "outputs": [],
   "source": [
    "# Initialize given string\n",
    "q4_DNA_seq = 'gggtgcgacgattcattgttttcggacaagtggataggcaaccactaccggtggattgtc'"
   ]
  },
  {
   "cell_type": "code",
   "execution_count": 8,
   "metadata": {
    "scrolled": true
   },
   "outputs": [
    {
     "name": "stdout",
     "output_type": "stream",
     "text": [
      "4-mers as keys and their appearances as values:\n",
      " {'gggt': 1, 'ggtg': 2, 'gtgc': 1, 'tgcg': 1, 'gcga': 1, 'cgac': 1, 'gacg': 1, 'acga': 1, 'cgat': 1, 'gatt': 2, 'attc': 1, 'ttca': 1, 'tcat': 1, 'catt': 1, 'attg': 2, 'ttgt': 2, 'tgtt': 1, 'gttt': 1, 'tttt': 1, 'tttc': 1, 'ttcg': 1, 'tcgg': 1, 'cgga': 1, 'ggac': 1, 'gaca': 1, 'acaa': 1, 'caag': 1, 'aagt': 1, 'agtg': 1, 'gtgg': 2, 'tgga': 2, 'ggat': 2, 'gata': 1, 'atag': 1, 'tagg': 1, 'aggc': 1, 'ggca': 1, 'gcaa': 1, 'caac': 1, 'aacc': 1, 'acca': 1, 'ccac': 1, 'cact': 1, 'acta': 1, 'ctac': 1, 'tacc': 1, 'accg': 1, 'ccgg': 1, 'cggt': 1, 'tgtc': 1}\n",
      "All 4-mers are:\n",
      " ['gggt', 'ggtg', 'gtgc', 'tgcg', 'gcga', 'cgac', 'gacg', 'acga', 'cgat', 'gatt', 'attc', 'ttca', 'tcat', 'catt', 'attg', 'ttgt', 'tgtt', 'gttt', 'tttt', 'tttc', 'ttcg', 'tcgg', 'cgga', 'ggac', 'gaca', 'acaa', 'caag', 'aagt', 'agtg', 'gtgg', 'tgga', 'ggat', 'gata', 'atag', 'tagg', 'aggc', 'ggca', 'gcaa', 'caac', 'aacc', 'acca', 'ccac', 'cact', 'acta', 'ctac', 'tacc', 'accg', 'ccgg', 'cggt', 'tgtc']\n"
     ]
    }
   ],
   "source": [
    "# Initialize dictionary for frequencies of 4-mers\n",
    "four_mers = {}\n",
    "\n",
    "# Note that the number of 4-mers is:\n",
    "count = len(q4_DNA_seq) - 4 + 1\n",
    "\n",
    "# Iterate through each substring of length 4\n",
    "for i in range(count):\n",
    "    # Identify 4-mer at this position\n",
    "    kmer = q4_DNA_seq[i : i+4]\n",
    "    \n",
    "    # Update the count of 'kmer' in dictionary\n",
    "    if kmer in four_mers:\n",
    "        four_mers[kmer] += 1    # If key exists, increment value\n",
    "    else:\n",
    "        four_mers[kmer] = 1     # If key doesn't exist, create new key\n",
    "\n",
    "# Print results\n",
    "print('4-mers as keys and their appearances as values:\\n', four_mers)\n",
    "print('All 4-mers are:\\n', list(four_mers.keys()))"
   ]
  },
  {
   "cell_type": "code",
   "execution_count": null,
   "metadata": {},
   "outputs": [],
   "source": []
  },
  {
   "cell_type": "markdown",
   "metadata": {},
   "source": [
    "# Question 5\n",
    "\n",
    "#### k-mer repeats \n",
    "\n",
    "Write a python program that can print the number of times a substring with five characters that starts with ```'AT'``` and ends with ```'A'``` appears in each string. This means that you should recognize the appearance of every pattern ```'ATxxA'```, where ```'x'``` can be any character.\n",
    "\n",
    "Test your program with the following string:\n",
    "> ```DNA = 'ATAGACATATAGATATGTGCACATAGAGAGATATACACATATATGTACATACA'```\n",
    "\n",
    "*Answer: The number of times that the pattern appears in the string above is 9.*"
   ]
  },
  {
   "cell_type": "code",
   "execution_count": 9,
   "metadata": {},
   "outputs": [],
   "source": [
    "# Initialize given string\n",
    "q5_DNA = 'ATAGACATATAGATATGTGCACATAGAGAGATATACACATATATGTACATACA'"
   ]
  },
  {
   "cell_type": "code",
   "execution_count": 10,
   "metadata": {},
   "outputs": [
    {
     "name": "stdout",
     "output_type": "stream",
     "text": [
      "Number of times the pattern occurs is: 9\n"
     ]
    }
   ],
   "source": [
    "# Initialize count variable for frequency of such substrings\n",
    "subs_count = 0\n",
    "\n",
    "# Note that the number of substrings of length 5 is:\n",
    "count = len(q5_DNA) - 5 + 1\n",
    "\n",
    "# Iterate through each substring of length 5\n",
    "for i in range(count):\n",
    "    # Identify substring of ength 5 at this position\n",
    "    subs = q5_DNA[i : i+5]\n",
    "    \n",
    "    # Update the count of 'subs'\n",
    "    if subs[:2] == 'AT' and subs[-1] == 'A': # If substring has prefix 'AT' and suffix 'A'\n",
    "        subs_count += 1\n",
    "\n",
    "# Print results\n",
    "print('Number of times the pattern occurs is:', subs_count)"
   ]
  },
  {
   "cell_type": "code",
   "execution_count": null,
   "metadata": {},
   "outputs": [],
   "source": []
  },
  {
   "cell_type": "markdown",
   "metadata": {},
   "source": [
    "**Created by:**\n",
    "\n",
    "Sonam Kumar \\\n",
    "Institute of Bioinformatics and Applied Biotechnology"
   ]
  }
 ],
 "metadata": {
  "kernelspec": {
   "display_name": "Python 3",
   "language": "python",
   "name": "python3"
  },
  "language_info": {
   "codemirror_mode": {
    "name": "ipython",
    "version": 3
   },
   "file_extension": ".py",
   "mimetype": "text/x-python",
   "name": "python",
   "nbconvert_exporter": "python",
   "pygments_lexer": "ipython3",
   "version": "3.8.10"
  }
 },
 "nbformat": 4,
 "nbformat_minor": 4
}
